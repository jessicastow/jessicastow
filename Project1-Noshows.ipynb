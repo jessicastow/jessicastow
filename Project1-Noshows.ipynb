{
 "cells": [
  {
   "cell_type": "markdown",
   "id": "1faf674b",
   "metadata": {},
   "source": [
    "# Project 1: No show appointments\n",
    "\n",
    "## Introduction\n",
    "\n",
    "The aim of this project is to determine what factors are important for us to know in order for us to predict if a patient will show up to their scheduled appointment. \n"
   ]
  },
  {
   "cell_type": "markdown",
   "id": "e95d7e29",
   "metadata": {},
   "source": [
    "### Import packages and dataset\n",
    "\n",
    "Data was taken from [here](https://d17h27t6h515a5.cloudfront.net/topher/2017/October/59dd2e9a_noshowappointments-kagglev2-may-2016/noshowappointments-kagglev2-may-2016.csv)."
   ]
  },
  {
   "cell_type": "code",
   "execution_count": 1,
   "id": "a5763ed9",
   "metadata": {},
   "outputs": [
    {
     "data": {
      "text/html": [
       "<div>\n",
       "<style scoped>\n",
       "    .dataframe tbody tr th:only-of-type {\n",
       "        vertical-align: middle;\n",
       "    }\n",
       "\n",
       "    .dataframe tbody tr th {\n",
       "        vertical-align: top;\n",
       "    }\n",
       "\n",
       "    .dataframe thead th {\n",
       "        text-align: right;\n",
       "    }\n",
       "</style>\n",
       "<table border=\"1\" class=\"dataframe\">\n",
       "  <thead>\n",
       "    <tr style=\"text-align: right;\">\n",
       "      <th></th>\n",
       "      <th>PatientId</th>\n",
       "      <th>AppointmentID</th>\n",
       "      <th>Gender</th>\n",
       "      <th>ScheduledDay</th>\n",
       "      <th>AppointmentDay</th>\n",
       "      <th>Age</th>\n",
       "      <th>Neighbourhood</th>\n",
       "      <th>Scholarship</th>\n",
       "      <th>Hipertension</th>\n",
       "      <th>Diabetes</th>\n",
       "      <th>Alcoholism</th>\n",
       "      <th>Handcap</th>\n",
       "      <th>SMS_received</th>\n",
       "      <th>No-show</th>\n",
       "    </tr>\n",
       "  </thead>\n",
       "  <tbody>\n",
       "    <tr>\n",
       "      <th>0</th>\n",
       "      <td>2.987250e+13</td>\n",
       "      <td>5642903</td>\n",
       "      <td>F</td>\n",
       "      <td>2016-04-29T18:38:08Z</td>\n",
       "      <td>2016-04-29T00:00:00Z</td>\n",
       "      <td>62</td>\n",
       "      <td>JARDIM DA PENHA</td>\n",
       "      <td>0</td>\n",
       "      <td>1</td>\n",
       "      <td>0</td>\n",
       "      <td>0</td>\n",
       "      <td>0</td>\n",
       "      <td>0</td>\n",
       "      <td>No</td>\n",
       "    </tr>\n",
       "    <tr>\n",
       "      <th>1</th>\n",
       "      <td>5.589978e+14</td>\n",
       "      <td>5642503</td>\n",
       "      <td>M</td>\n",
       "      <td>2016-04-29T16:08:27Z</td>\n",
       "      <td>2016-04-29T00:00:00Z</td>\n",
       "      <td>56</td>\n",
       "      <td>JARDIM DA PENHA</td>\n",
       "      <td>0</td>\n",
       "      <td>0</td>\n",
       "      <td>0</td>\n",
       "      <td>0</td>\n",
       "      <td>0</td>\n",
       "      <td>0</td>\n",
       "      <td>No</td>\n",
       "    </tr>\n",
       "    <tr>\n",
       "      <th>2</th>\n",
       "      <td>4.262962e+12</td>\n",
       "      <td>5642549</td>\n",
       "      <td>F</td>\n",
       "      <td>2016-04-29T16:19:04Z</td>\n",
       "      <td>2016-04-29T00:00:00Z</td>\n",
       "      <td>62</td>\n",
       "      <td>MATA DA PRAIA</td>\n",
       "      <td>0</td>\n",
       "      <td>0</td>\n",
       "      <td>0</td>\n",
       "      <td>0</td>\n",
       "      <td>0</td>\n",
       "      <td>0</td>\n",
       "      <td>No</td>\n",
       "    </tr>\n",
       "    <tr>\n",
       "      <th>3</th>\n",
       "      <td>8.679512e+11</td>\n",
       "      <td>5642828</td>\n",
       "      <td>F</td>\n",
       "      <td>2016-04-29T17:29:31Z</td>\n",
       "      <td>2016-04-29T00:00:00Z</td>\n",
       "      <td>8</td>\n",
       "      <td>PONTAL DE CAMBURI</td>\n",
       "      <td>0</td>\n",
       "      <td>0</td>\n",
       "      <td>0</td>\n",
       "      <td>0</td>\n",
       "      <td>0</td>\n",
       "      <td>0</td>\n",
       "      <td>No</td>\n",
       "    </tr>\n",
       "    <tr>\n",
       "      <th>4</th>\n",
       "      <td>8.841186e+12</td>\n",
       "      <td>5642494</td>\n",
       "      <td>F</td>\n",
       "      <td>2016-04-29T16:07:23Z</td>\n",
       "      <td>2016-04-29T00:00:00Z</td>\n",
       "      <td>56</td>\n",
       "      <td>JARDIM DA PENHA</td>\n",
       "      <td>0</td>\n",
       "      <td>1</td>\n",
       "      <td>1</td>\n",
       "      <td>0</td>\n",
       "      <td>0</td>\n",
       "      <td>0</td>\n",
       "      <td>No</td>\n",
       "    </tr>\n",
       "  </tbody>\n",
       "</table>\n",
       "</div>"
      ],
      "text/plain": [
       "      PatientId  AppointmentID Gender          ScheduledDay  \\\n",
       "0  2.987250e+13        5642903      F  2016-04-29T18:38:08Z   \n",
       "1  5.589978e+14        5642503      M  2016-04-29T16:08:27Z   \n",
       "2  4.262962e+12        5642549      F  2016-04-29T16:19:04Z   \n",
       "3  8.679512e+11        5642828      F  2016-04-29T17:29:31Z   \n",
       "4  8.841186e+12        5642494      F  2016-04-29T16:07:23Z   \n",
       "\n",
       "         AppointmentDay  Age      Neighbourhood  Scholarship  Hipertension  \\\n",
       "0  2016-04-29T00:00:00Z   62    JARDIM DA PENHA            0             1   \n",
       "1  2016-04-29T00:00:00Z   56    JARDIM DA PENHA            0             0   \n",
       "2  2016-04-29T00:00:00Z   62      MATA DA PRAIA            0             0   \n",
       "3  2016-04-29T00:00:00Z    8  PONTAL DE CAMBURI            0             0   \n",
       "4  2016-04-29T00:00:00Z   56    JARDIM DA PENHA            0             1   \n",
       "\n",
       "   Diabetes  Alcoholism  Handcap  SMS_received No-show  \n",
       "0         0           0        0             0      No  \n",
       "1         0           0        0             0      No  \n",
       "2         0           0        0             0      No  \n",
       "3         0           0        0             0      No  \n",
       "4         1           0        0             0      No  "
      ]
     },
     "execution_count": 1,
     "metadata": {},
     "output_type": "execute_result"
    }
   ],
   "source": [
    "import pandas as pd\n",
    "import numpy as np\n",
    "import matplotlib.pyplot as plt \n",
    "\n",
    "%matplotlib inline\n",
    "\n",
    "df = pd.read_csv('noshowappointments-kagglev2-may-2016.csv')\n",
    "df.head()"
   ]
  },
  {
   "cell_type": "code",
   "execution_count": 2,
   "id": "aa741926",
   "metadata": {},
   "outputs": [
    {
     "data": {
      "text/plain": [
       "(110527, 14)"
      ]
     },
     "execution_count": 2,
     "metadata": {},
     "output_type": "execute_result"
    }
   ],
   "source": [
    "df.shape # data has 110527 rows and 14 columns"
   ]
  },
  {
   "cell_type": "code",
   "execution_count": 3,
   "id": "e9d93079",
   "metadata": {},
   "outputs": [
    {
     "name": "stdout",
     "output_type": "stream",
     "text": [
      "<class 'pandas.core.frame.DataFrame'>\n",
      "RangeIndex: 110527 entries, 0 to 110526\n",
      "Data columns (total 14 columns):\n",
      " #   Column          Non-Null Count   Dtype  \n",
      "---  ------          --------------   -----  \n",
      " 0   PatientId       110527 non-null  float64\n",
      " 1   AppointmentID   110527 non-null  int64  \n",
      " 2   Gender          110527 non-null  object \n",
      " 3   ScheduledDay    110527 non-null  object \n",
      " 4   AppointmentDay  110527 non-null  object \n",
      " 5   Age             110527 non-null  int64  \n",
      " 6   Neighbourhood   110527 non-null  object \n",
      " 7   Scholarship     110527 non-null  int64  \n",
      " 8   Hipertension    110527 non-null  int64  \n",
      " 9   Diabetes        110527 non-null  int64  \n",
      " 10  Alcoholism      110527 non-null  int64  \n",
      " 11  Handcap         110527 non-null  int64  \n",
      " 12  SMS_received    110527 non-null  int64  \n",
      " 13  No-show         110527 non-null  object \n",
      "dtypes: float64(1), int64(8), object(5)\n",
      "memory usage: 11.8+ MB\n"
     ]
    }
   ],
   "source": [
    "df.info() # Issue #1: ScheduledDay and AppointmentDay are objects, but should be DayTime data types. "
   ]
  },
  {
   "cell_type": "code",
   "execution_count": 4,
   "id": "5f06dc1e",
   "metadata": {},
   "outputs": [
    {
     "data": {
      "text/plain": [
       "PatientId          62299\n",
       "AppointmentID     110527\n",
       "Gender                 2\n",
       "ScheduledDay      103549\n",
       "AppointmentDay        27\n",
       "Age                  104\n",
       "Neighbourhood         81\n",
       "Scholarship            2\n",
       "Hipertension           2\n",
       "Diabetes               2\n",
       "Alcoholism             2\n",
       "Handcap                5\n",
       "SMS_received           2\n",
       "No-show                2\n",
       "dtype: int64"
      ]
     },
     "execution_count": 4,
     "metadata": {},
     "output_type": "execute_result"
    }
   ],
   "source": [
    "df.nunique() # I foresee an issue with 'Handcap' (5 variables but should only have 2). "
   ]
  },
  {
   "cell_type": "code",
   "execution_count": 5,
   "id": "ab4052c6",
   "metadata": {},
   "outputs": [
    {
     "data": {
      "text/plain": [
       "0"
      ]
     },
     "execution_count": 5,
     "metadata": {},
     "output_type": "execute_result"
    }
   ],
   "source": [
    "sum(df.duplicated()) # Good, there are no duplicate samples."
   ]
  },
  {
   "cell_type": "code",
   "execution_count": 6,
   "id": "8a8775b6",
   "metadata": {},
   "outputs": [
    {
     "data": {
      "text/plain": [
       "PatientId         0\n",
       "AppointmentID     0\n",
       "Gender            0\n",
       "ScheduledDay      0\n",
       "AppointmentDay    0\n",
       "Age               0\n",
       "Neighbourhood     0\n",
       "Scholarship       0\n",
       "Hipertension      0\n",
       "Diabetes          0\n",
       "Alcoholism        0\n",
       "Handcap           0\n",
       "SMS_received      0\n",
       "No-show           0\n",
       "dtype: int64"
      ]
     },
     "execution_count": 6,
     "metadata": {},
     "output_type": "execute_result"
    }
   ],
   "source": [
    "df.isnull().sum() # No cells with Na values"
   ]
  },
  {
   "cell_type": "code",
   "execution_count": 7,
   "id": "3ba745c7",
   "metadata": {},
   "outputs": [
    {
     "data": {
      "text/plain": [
       "array(['2016-04-29T00:00:00Z', '2016-05-03T00:00:00Z',\n",
       "       '2016-05-10T00:00:00Z', '2016-05-17T00:00:00Z',\n",
       "       '2016-05-24T00:00:00Z', '2016-05-31T00:00:00Z',\n",
       "       '2016-05-02T00:00:00Z', '2016-05-30T00:00:00Z',\n",
       "       '2016-05-16T00:00:00Z', '2016-05-04T00:00:00Z',\n",
       "       '2016-05-19T00:00:00Z', '2016-05-12T00:00:00Z',\n",
       "       '2016-05-06T00:00:00Z', '2016-05-20T00:00:00Z',\n",
       "       '2016-05-05T00:00:00Z', '2016-05-13T00:00:00Z',\n",
       "       '2016-05-09T00:00:00Z', '2016-05-25T00:00:00Z',\n",
       "       '2016-05-11T00:00:00Z', '2016-05-18T00:00:00Z',\n",
       "       '2016-05-14T00:00:00Z', '2016-06-02T00:00:00Z',\n",
       "       '2016-06-03T00:00:00Z', '2016-06-06T00:00:00Z',\n",
       "       '2016-06-07T00:00:00Z', '2016-06-01T00:00:00Z',\n",
       "       '2016-06-08T00:00:00Z'], dtype=object)"
      ]
     },
     "execution_count": 7,
     "metadata": {},
     "output_type": "execute_result"
    }
   ],
   "source": [
    "df.AppointmentDay.unique() # Looking at appointments beteen 29 April 2016 and 8 June 2016. "
   ]
  },
  {
   "cell_type": "code",
   "execution_count": 8,
   "id": "eb574f42",
   "metadata": {},
   "outputs": [
    {
     "data": {
      "text/plain": [
       "array([0, 1, 2, 3, 4])"
      ]
     },
     "execution_count": 8,
     "metadata": {},
     "output_type": "execute_result"
    }
   ],
   "source": [
    "df.Handcap.unique() # Issue #2: We have values 0,1,2,3,4. Should only be 0 and 1. "
   ]
  },
  {
   "cell_type": "code",
   "execution_count": 9,
   "id": "f44fd405",
   "metadata": {},
   "outputs": [
    {
     "data": {
      "text/plain": [
       "array([ 62,  56,   8,  76,  23,  39,  21,  19,  30,  29,  22,  28,  54,\n",
       "        15,  50,  40,  46,   4,  13,  65,  45,  51,  32,  12,  61,  38,\n",
       "        79,  18,  63,  64,  85,  59,  55,  71,  49,  78,  31,  58,  27,\n",
       "         6,   2,  11,   7,   0,   3,   1,  69,  68,  60,  67,  36,  10,\n",
       "        35,  20,  26,  34,  33,  16,  42,   5,  47,  17,  41,  44,  37,\n",
       "        24,  66,  77,  81,  70,  53,  75,  73,  52,  74,  43,  89,  57,\n",
       "        14,   9,  48,  83,  72,  25,  80,  87,  88,  84,  82,  90,  94,\n",
       "        86,  91,  98,  92,  96,  93,  95,  97, 102, 115, 100,  99,  -1])"
      ]
     },
     "execution_count": 9,
     "metadata": {},
     "output_type": "execute_result"
    }
   ],
   "source": [
    "df.Age.unique() # Issue #3: We have someone who is -1 years old."
   ]
  },
  {
   "cell_type": "markdown",
   "id": "96421bdd",
   "metadata": {},
   "source": [
    "Rename `No-show` as `Noshow`."
   ]
  },
  {
   "cell_type": "code",
   "execution_count": 10,
   "id": "b7ea9438",
   "metadata": {},
   "outputs": [],
   "source": [
    "df.rename(columns={'No-show': 'Noshow'}, inplace=True)"
   ]
  },
  {
   "cell_type": "markdown",
   "id": "5ad7f225",
   "metadata": {},
   "source": [
    "This dataset contains information on 110 527 doctor appointments, from 62 299 patients, made between 29 April 2016 and 8 June 2016, and 14 variables associated.\n",
    "\n",
    "Information about data set was obtained from [here](https://www.kaggle.com/datasets/joniarroba/noshowappointments).\n",
    "\n",
    "### 14 Variables:\n",
    "\n",
    "`PatientId`: Unique identification number of the patient. \n",
    "\n",
    "`AppointmentID`: Unique identification number of the appointment. \n",
    "\n",
    "`Gender`: Gender of the patient, male (M) or female (F).\n",
    "\n",
    "`ScheduledDay`: Date and time the appointment was made, before the actual appointment date.\n",
    "\n",
    "`AppointmentDay`: Date of the actual appointment. \n",
    "\n",
    "`Age`: How old the patient is. \n",
    "\n",
    "`Neighbourhood`: Where the appointment takes place. \n",
    "\n",
    "`Scholarship`: True (1) or False (0). More information is available [here](https://en.wikipedia.org/wiki/Bolsa_Fam%C3%ADlia).\n",
    "\n",
    "`Hipertension`: True (1) or False (0).\n",
    "\n",
    "`Diabetes`: True (1) or False (0).\n",
    "\n",
    "`Alcoholism`: True (1) or False (0).\n",
    "\n",
    "`Handcap`: True (1) or False (0).\n",
    "\n",
    "`SMS_received`: One or more messages sent to the patient\n",
    "\n",
    "`Noshow`: True (Yes) or False (No). It is important to distinguish the difference between 'yes' and 'no' in this column. 'Yes' indicates the appointment was missed, 'no' indicates the patient showed up for their appointment. "
   ]
  },
  {
   "cell_type": "markdown",
   "id": "f1fd0d47",
   "metadata": {},
   "source": [
    "## Data wrangling\n",
    "\n",
    "First, we must convert `ScheduledDay` and `AppointmentDay` from objects to Datetime data type. Then convert to date data type.  "
   ]
  },
  {
   "cell_type": "code",
   "execution_count": 11,
   "id": "c58847ac",
   "metadata": {},
   "outputs": [],
   "source": [
    "# convert to Datetime data type\n",
    "\n",
    "df['ScheduledDay'] = pd.to_datetime(df['ScheduledDay'])\n",
    "df['AppointmentDay'] = pd.to_datetime(df['AppointmentDay'])"
   ]
  },
  {
   "cell_type": "code",
   "execution_count": 12,
   "id": "8bbdf6ac",
   "metadata": {},
   "outputs": [],
   "source": [
    "df['ScheduledDay'] = df['ScheduledDay'].dt.date\n",
    "df['AppointmentDay'] = df['AppointmentDay'].dt.date"
   ]
  },
  {
   "cell_type": "code",
   "execution_count": 13,
   "id": "632a77ef",
   "metadata": {},
   "outputs": [
    {
     "name": "stdout",
     "output_type": "stream",
     "text": [
      "<class 'pandas.core.frame.DataFrame'>\n",
      "RangeIndex: 110527 entries, 0 to 110526\n",
      "Data columns (total 14 columns):\n",
      " #   Column          Non-Null Count   Dtype  \n",
      "---  ------          --------------   -----  \n",
      " 0   PatientId       110527 non-null  float64\n",
      " 1   AppointmentID   110527 non-null  int64  \n",
      " 2   Gender          110527 non-null  object \n",
      " 3   ScheduledDay    110527 non-null  object \n",
      " 4   AppointmentDay  110527 non-null  object \n",
      " 5   Age             110527 non-null  int64  \n",
      " 6   Neighbourhood   110527 non-null  object \n",
      " 7   Scholarship     110527 non-null  int64  \n",
      " 8   Hipertension    110527 non-null  int64  \n",
      " 9   Diabetes        110527 non-null  int64  \n",
      " 10  Alcoholism      110527 non-null  int64  \n",
      " 11  Handcap         110527 non-null  int64  \n",
      " 12  SMS_received    110527 non-null  int64  \n",
      " 13  Noshow          110527 non-null  object \n",
      "dtypes: float64(1), int64(8), object(5)\n",
      "memory usage: 11.8+ MB\n"
     ]
    }
   ],
   "source": [
    "df.info() # Check if we correctly converted to datetime data type"
   ]
  },
  {
   "cell_type": "markdown",
   "id": "c3427134",
   "metadata": {},
   "source": [
    "Second, we must remove patients with ages < 0 years. "
   ]
  },
  {
   "cell_type": "code",
   "execution_count": 14,
   "id": "bbf86580",
   "metadata": {},
   "outputs": [
    {
     "data": {
      "text/plain": [
       "(110526, 14)"
      ]
     },
     "execution_count": 14,
     "metadata": {},
     "output_type": "execute_result"
    }
   ],
   "source": [
    "df_clean = df.loc[(df[\"Age\"] >= 0)] # need to remove all patients with ages less than 0\n",
    "\n",
    "df_clean.shape # Check if row was dropped. "
   ]
  },
  {
   "cell_type": "code",
   "execution_count": 15,
   "id": "c1111ac4",
   "metadata": {},
   "outputs": [
    {
     "data": {
      "text/html": [
       "<div>\n",
       "<style scoped>\n",
       "    .dataframe tbody tr th:only-of-type {\n",
       "        vertical-align: middle;\n",
       "    }\n",
       "\n",
       "    .dataframe tbody tr th {\n",
       "        vertical-align: top;\n",
       "    }\n",
       "\n",
       "    .dataframe thead th {\n",
       "        text-align: right;\n",
       "    }\n",
       "</style>\n",
       "<table border=\"1\" class=\"dataframe\">\n",
       "  <thead>\n",
       "    <tr style=\"text-align: right;\">\n",
       "      <th></th>\n",
       "      <th>PatientId</th>\n",
       "      <th>AppointmentID</th>\n",
       "      <th>Gender</th>\n",
       "      <th>ScheduledDay</th>\n",
       "      <th>AppointmentDay</th>\n",
       "      <th>Age</th>\n",
       "      <th>Neighbourhood</th>\n",
       "      <th>Scholarship</th>\n",
       "      <th>Hipertension</th>\n",
       "      <th>Diabetes</th>\n",
       "      <th>Alcoholism</th>\n",
       "      <th>Handcap</th>\n",
       "      <th>SMS_received</th>\n",
       "      <th>Noshow</th>\n",
       "    </tr>\n",
       "  </thead>\n",
       "  <tbody>\n",
       "  </tbody>\n",
       "</table>\n",
       "</div>"
      ],
      "text/plain": [
       "Empty DataFrame\n",
       "Columns: [PatientId, AppointmentID, Gender, ScheduledDay, AppointmentDay, Age, Neighbourhood, Scholarship, Hipertension, Diabetes, Alcoholism, Handcap, SMS_received, Noshow]\n",
       "Index: []"
      ]
     },
     "execution_count": 15,
     "metadata": {},
     "output_type": "execute_result"
    }
   ],
   "source": [
    "df_clean.query('Age < 0') # No longer part of dataset."
   ]
  },
  {
   "cell_type": "markdown",
   "id": "bfc8548c",
   "metadata": {},
   "source": [
    "Third, we must remove `Handcap` values that are not 0 or 1. "
   ]
  },
  {
   "cell_type": "code",
   "execution_count": 16,
   "id": "0b96df3a",
   "metadata": {},
   "outputs": [
    {
     "data": {
      "text/plain": [
       "(110327, 14)"
      ]
     },
     "execution_count": 16,
     "metadata": {},
     "output_type": "execute_result"
    }
   ],
   "source": [
    "df_clean.query('Handcap >= 2') # Need to remove these 199 rows.\n",
    "\n",
    "df_clean = df_clean.loc[(df[\"Handcap\"] < 2)] # Remove all rows with Handcap >/= 2 (Handcap not equal to 0 or 1)\n",
    "\n",
    "df_clean.shape # Check if rows were dropped."
   ]
  },
  {
   "cell_type": "code",
   "execution_count": 17,
   "id": "0344bf72",
   "metadata": {},
   "outputs": [
    {
     "data": {
      "text/html": [
       "<div>\n",
       "<style scoped>\n",
       "    .dataframe tbody tr th:only-of-type {\n",
       "        vertical-align: middle;\n",
       "    }\n",
       "\n",
       "    .dataframe tbody tr th {\n",
       "        vertical-align: top;\n",
       "    }\n",
       "\n",
       "    .dataframe thead th {\n",
       "        text-align: right;\n",
       "    }\n",
       "</style>\n",
       "<table border=\"1\" class=\"dataframe\">\n",
       "  <thead>\n",
       "    <tr style=\"text-align: right;\">\n",
       "      <th></th>\n",
       "      <th>PatientId</th>\n",
       "      <th>AppointmentID</th>\n",
       "      <th>Gender</th>\n",
       "      <th>ScheduledDay</th>\n",
       "      <th>AppointmentDay</th>\n",
       "      <th>Age</th>\n",
       "      <th>Neighbourhood</th>\n",
       "      <th>Scholarship</th>\n",
       "      <th>Hipertension</th>\n",
       "      <th>Diabetes</th>\n",
       "      <th>Alcoholism</th>\n",
       "      <th>Handcap</th>\n",
       "      <th>SMS_received</th>\n",
       "      <th>Noshow</th>\n",
       "    </tr>\n",
       "  </thead>\n",
       "  <tbody>\n",
       "  </tbody>\n",
       "</table>\n",
       "</div>"
      ],
      "text/plain": [
       "Empty DataFrame\n",
       "Columns: [PatientId, AppointmentID, Gender, ScheduledDay, AppointmentDay, Age, Neighbourhood, Scholarship, Hipertension, Diabetes, Alcoholism, Handcap, SMS_received, Noshow]\n",
       "Index: []"
      ]
     },
     "execution_count": 17,
     "metadata": {},
     "output_type": "execute_result"
    }
   ],
   "source": [
    "df_clean.query('Handcap >= 2') # No longer part of data set."
   ]
  },
  {
   "cell_type": "markdown",
   "id": "c8989f8f",
   "metadata": {},
   "source": [
    "Fourth, we should check if there are any `AppointmentDay`values that occur prior to their `ScheduledDay`. Drop any rows that have `AppointmentDay`s that are prior to `ScheduledDay`. "
   ]
  },
  {
   "cell_type": "code",
   "execution_count": 18,
   "id": "18e8cffa",
   "metadata": {},
   "outputs": [],
   "source": [
    "df_clean['WaitingDays'] = (df_clean['AppointmentDay']-df['ScheduledDay']).dt.days\n",
    "df_clean['WaitingDays'] = df_clean['WaitingDays'].astype(int)"
   ]
  },
  {
   "cell_type": "code",
   "execution_count": 19,
   "id": "e8283e31",
   "metadata": {},
   "outputs": [],
   "source": [
    "df_clean.drop(index = (df_clean.query('WaitingDays < 0').index), axis=0, inplace=True)"
   ]
  },
  {
   "cell_type": "code",
   "execution_count": 20,
   "id": "fd7684df",
   "metadata": {},
   "outputs": [
    {
     "data": {
      "text/html": [
       "<div>\n",
       "<style scoped>\n",
       "    .dataframe tbody tr th:only-of-type {\n",
       "        vertical-align: middle;\n",
       "    }\n",
       "\n",
       "    .dataframe tbody tr th {\n",
       "        vertical-align: top;\n",
       "    }\n",
       "\n",
       "    .dataframe thead th {\n",
       "        text-align: right;\n",
       "    }\n",
       "</style>\n",
       "<table border=\"1\" class=\"dataframe\">\n",
       "  <thead>\n",
       "    <tr style=\"text-align: right;\">\n",
       "      <th></th>\n",
       "      <th>PatientId</th>\n",
       "      <th>AppointmentID</th>\n",
       "      <th>Gender</th>\n",
       "      <th>ScheduledDay</th>\n",
       "      <th>AppointmentDay</th>\n",
       "      <th>Age</th>\n",
       "      <th>Neighbourhood</th>\n",
       "      <th>Scholarship</th>\n",
       "      <th>Hipertension</th>\n",
       "      <th>Diabetes</th>\n",
       "      <th>Alcoholism</th>\n",
       "      <th>Handcap</th>\n",
       "      <th>SMS_received</th>\n",
       "      <th>Noshow</th>\n",
       "      <th>WaitingDays</th>\n",
       "    </tr>\n",
       "  </thead>\n",
       "  <tbody>\n",
       "  </tbody>\n",
       "</table>\n",
       "</div>"
      ],
      "text/plain": [
       "Empty DataFrame\n",
       "Columns: [PatientId, AppointmentID, Gender, ScheduledDay, AppointmentDay, Age, Neighbourhood, Scholarship, Hipertension, Diabetes, Alcoholism, Handcap, SMS_received, Noshow, WaitingDays]\n",
       "Index: []"
      ]
     },
     "execution_count": 20,
     "metadata": {},
     "output_type": "execute_result"
    }
   ],
   "source": [
    "df_clean.query('WaitingDays < 0') # Check waiting days < 0 were dropped. "
   ]
  },
  {
   "cell_type": "markdown",
   "id": "8b7d5f6f",
   "metadata": {},
   "source": [
    "Drop `PatientId` and `AppointmentID` columns.  "
   ]
  },
  {
   "cell_type": "code",
   "execution_count": 21,
   "id": "6c9cdd64",
   "metadata": {},
   "outputs": [],
   "source": [
    "df_clean.drop(columns=['PatientId', 'AppointmentID'] ,inplace=True)"
   ]
  },
  {
   "cell_type": "code",
   "execution_count": 22,
   "id": "de6ed7f7",
   "metadata": {},
   "outputs": [
    {
     "name": "stdout",
     "output_type": "stream",
     "text": [
      "<class 'pandas.core.frame.DataFrame'>\n",
      "Int64Index: 110322 entries, 0 to 110526\n",
      "Data columns (total 13 columns):\n",
      " #   Column          Non-Null Count   Dtype \n",
      "---  ------          --------------   ----- \n",
      " 0   Gender          110322 non-null  object\n",
      " 1   ScheduledDay    110322 non-null  object\n",
      " 2   AppointmentDay  110322 non-null  object\n",
      " 3   Age             110322 non-null  int64 \n",
      " 4   Neighbourhood   110322 non-null  object\n",
      " 5   Scholarship     110322 non-null  int64 \n",
      " 6   Hipertension    110322 non-null  int64 \n",
      " 7   Diabetes        110322 non-null  int64 \n",
      " 8   Alcoholism      110322 non-null  int64 \n",
      " 9   Handcap         110322 non-null  int64 \n",
      " 10  SMS_received    110322 non-null  int64 \n",
      " 11  Noshow          110322 non-null  object\n",
      " 12  WaitingDays     110322 non-null  int64 \n",
      "dtypes: int64(8), object(5)\n",
      "memory usage: 11.8+ MB\n"
     ]
    }
   ],
   "source": [
    "df_clean.info() # Check PatientID and AppointmentID columns were dropped."
   ]
  },
  {
   "cell_type": "markdown",
   "id": "4b98722d",
   "metadata": {},
   "source": [
    "## Exploratory data analysis"
   ]
  },
  {
   "cell_type": "markdown",
   "id": "87407640",
   "metadata": {},
   "source": [
    "### Questions for exploratory data analysis\n",
    "\n",
    "1. What proportion of appointments are missed?\n",
    "2. Is there a relationship between showing up and gender?\n",
    "3. Is there a relationship between showing up and having a scholarship?\n",
    "4. Does the presence of hypertension have an affect on whether a patient will no show to their appointment?\n",
    "5. Does the presence of diabetes have an affect on whether a patient will no-show to their appointment?\n",
    "6. Does the presence of a handicap affect whether a patient will no-show to their appointment?\n",
    "7. Do SMSs received affect whether a patient will no-show to an appointment?\n",
    "8. What ages are present in this analysis? "
   ]
  },
  {
   "cell_type": "markdown",
   "id": "20145739",
   "metadata": {},
   "source": [
    "What proportion of doctors appointments are missed by patients?"
   ]
  },
  {
   "cell_type": "code",
   "execution_count": 23,
   "id": "6cf09bd0",
   "metadata": {},
   "outputs": [
    {
     "data": {
      "text/plain": [
       "<matplotlib.legend.Legend at 0x7f9858638550>"
      ]
     },
     "execution_count": 23,
     "metadata": {},
     "output_type": "execute_result"
    },
    {
     "data": {
      "image/png": "[encoded data removed]",
      "text/plain": [
       "<Figure size 720x720 with 1 Axes>"
      ]
     },
     "metadata": {},
     "output_type": "display_data"
    }
   ],
   "source": [
    "df_clean['Noshow'].value_counts().plot.pie(ylabel ='', figsize= (10,10), \n",
    "                                           title=\"Proportion of no shows at doctors appointments\", autopct='%1.0f%%');\n",
    "plt.legend(title= \"No show\")"
   ]
  },
  {
   "cell_type": "markdown",
   "id": "b58ecd80",
   "metadata": {},
   "source": [
    "Separate original data set into two data frames. "
   ]
  },
  {
   "cell_type": "code",
   "execution_count": 24,
   "id": "da0d5a10",
   "metadata": {},
   "outputs": [],
   "source": [
    "df_yes = df_clean.query('Noshow == \"Yes\"')\n",
    "df_no = df_clean.query('Noshow == \"No\"')"
   ]
  },
  {
   "cell_type": "code",
   "execution_count": 25,
   "id": "01a500c6",
   "metadata": {},
   "outputs": [
    {
     "data": {
      "text/html": [
       "<div>\n",
       "<style scoped>\n",
       "    .dataframe tbody tr th:only-of-type {\n",
       "        vertical-align: middle;\n",
       "    }\n",
       "\n",
       "    .dataframe tbody tr th {\n",
       "        vertical-align: top;\n",
       "    }\n",
       "\n",
       "    .dataframe thead th {\n",
       "        text-align: right;\n",
       "    }\n",
       "</style>\n",
       "<table border=\"1\" class=\"dataframe\">\n",
       "  <thead>\n",
       "    <tr style=\"text-align: right;\">\n",
       "      <th></th>\n",
       "      <th>Gender</th>\n",
       "      <th>ScheduledDay</th>\n",
       "      <th>AppointmentDay</th>\n",
       "      <th>Age</th>\n",
       "      <th>Neighbourhood</th>\n",
       "      <th>Scholarship</th>\n",
       "      <th>Hipertension</th>\n",
       "      <th>Diabetes</th>\n",
       "      <th>Alcoholism</th>\n",
       "      <th>Handcap</th>\n",
       "      <th>SMS_received</th>\n",
       "      <th>Noshow</th>\n",
       "      <th>WaitingDays</th>\n",
       "    </tr>\n",
       "  </thead>\n",
       "  <tbody>\n",
       "    <tr>\n",
       "      <th>0</th>\n",
       "      <td>F</td>\n",
       "      <td>2016-04-29</td>\n",
       "      <td>2016-04-29</td>\n",
       "      <td>62</td>\n",
       "      <td>JARDIM DA PENHA</td>\n",
       "      <td>0</td>\n",
       "      <td>1</td>\n",
       "      <td>0</td>\n",
       "      <td>0</td>\n",
       "      <td>0</td>\n",
       "      <td>0</td>\n",
       "      <td>No</td>\n",
       "      <td>0</td>\n",
       "    </tr>\n",
       "    <tr>\n",
       "      <th>1</th>\n",
       "      <td>M</td>\n",
       "      <td>2016-04-29</td>\n",
       "      <td>2016-04-29</td>\n",
       "      <td>56</td>\n",
       "      <td>JARDIM DA PENHA</td>\n",
       "      <td>0</td>\n",
       "      <td>0</td>\n",
       "      <td>0</td>\n",
       "      <td>0</td>\n",
       "      <td>0</td>\n",
       "      <td>0</td>\n",
       "      <td>No</td>\n",
       "      <td>0</td>\n",
       "    </tr>\n",
       "    <tr>\n",
       "      <th>2</th>\n",
       "      <td>F</td>\n",
       "      <td>2016-04-29</td>\n",
       "      <td>2016-04-29</td>\n",
       "      <td>62</td>\n",
       "      <td>MATA DA PRAIA</td>\n",
       "      <td>0</td>\n",
       "      <td>0</td>\n",
       "      <td>0</td>\n",
       "      <td>0</td>\n",
       "      <td>0</td>\n",
       "      <td>0</td>\n",
       "      <td>No</td>\n",
       "      <td>0</td>\n",
       "    </tr>\n",
       "    <tr>\n",
       "      <th>3</th>\n",
       "      <td>F</td>\n",
       "      <td>2016-04-29</td>\n",
       "      <td>2016-04-29</td>\n",
       "      <td>8</td>\n",
       "      <td>PONTAL DE CAMBURI</td>\n",
       "      <td>0</td>\n",
       "      <td>0</td>\n",
       "      <td>0</td>\n",
       "      <td>0</td>\n",
       "      <td>0</td>\n",
       "      <td>0</td>\n",
       "      <td>No</td>\n",
       "      <td>0</td>\n",
       "    </tr>\n",
       "    <tr>\n",
       "      <th>4</th>\n",
       "      <td>F</td>\n",
       "      <td>2016-04-29</td>\n",
       "      <td>2016-04-29</td>\n",
       "      <td>56</td>\n",
       "      <td>JARDIM DA PENHA</td>\n",
       "      <td>0</td>\n",
       "      <td>1</td>\n",
       "      <td>1</td>\n",
       "      <td>0</td>\n",
       "      <td>0</td>\n",
       "      <td>0</td>\n",
       "      <td>No</td>\n",
       "      <td>0</td>\n",
       "    </tr>\n",
       "  </tbody>\n",
       "</table>\n",
       "</div>"
      ],
      "text/plain": [
       "  Gender ScheduledDay AppointmentDay  Age      Neighbourhood  Scholarship  \\\n",
       "0      F   2016-04-29     2016-04-29   62    JARDIM DA PENHA            0   \n",
       "1      M   2016-04-29     2016-04-29   56    JARDIM DA PENHA            0   \n",
       "2      F   2016-04-29     2016-04-29   62      MATA DA PRAIA            0   \n",
       "3      F   2016-04-29     2016-04-29    8  PONTAL DE CAMBURI            0   \n",
       "4      F   2016-04-29     2016-04-29   56    JARDIM DA PENHA            0   \n",
       "\n",
       "   Hipertension  Diabetes  Alcoholism  Handcap  SMS_received Noshow  \\\n",
       "0             1         0           0        0             0     No   \n",
       "1             0         0           0        0             0     No   \n",
       "2             0         0           0        0             0     No   \n",
       "3             0         0           0        0             0     No   \n",
       "4             1         1           0        0             0     No   \n",
       "\n",
       "   WaitingDays  \n",
       "0            0  \n",
       "1            0  \n",
       "2            0  \n",
       "3            0  \n",
       "4            0  "
      ]
     },
     "execution_count": 25,
     "metadata": {},
     "output_type": "execute_result"
    }
   ],
   "source": [
    "df_clean.head()"
   ]
  },
  {
   "cell_type": "markdown",
   "id": "57ec846f",
   "metadata": {},
   "source": [
    "### Explore relationship between gender and showing up for appointment. "
   ]
  },
  {
   "cell_type": "code",
   "execution_count": 68,
   "id": "36903095",
   "metadata": {},
   "outputs": [
    {
     "data": {
      "text/plain": [
       "F    0.203062\n",
       "M    0.199715\n",
       "dtype: float64"
      ]
     },
     "execution_count": 68,
     "metadata": {},
     "output_type": "execute_result"
    }
   ],
   "source": [
    "gender_yes = df_yes.Gender.value_counts() # Get the total count of males and females that did not show to appointment. \n",
    "gender_totals = df_clean.groupby('Gender').count()['Noshow'] # Get the total number of males and females in the data set. \n",
    "\n",
    "gender_yes_prop = gender_yes/gender_totals # Get the proportion of each gender that did not show to appointment. \n",
    "gender_yes_prop"
   ]
  },
  {
   "cell_type": "code",
   "execution_count": 113,
   "id": "2f79b33b",
   "metadata": {},
   "outputs": [],
   "source": [
    "# create a user-defined function for creating barcharts \n",
    "\n",
    "def barchart(x, title, xlabel, ylabel):\n",
    "    x.plot(kind = 'bar')\n",
    "    plt.title(title)\n",
    "    plt.xlabel(xlabel)\n",
    "    plt.ylabel(ylabel)\n",
    "    return plt.show()"
   ]
  },
  {
   "cell_type": "code",
   "execution_count": 114,
   "id": "7e337b99",
   "metadata": {},
   "outputs": [
    {
     "data": {
      "image/png": "[encoded data removed]",
      "text/plain": [
       "<Figure size 432x288 with 1 Axes>"
      ]
     },
     "metadata": {
      "needs_background": "light"
     },
     "output_type": "display_data"
    }
   ],
   "source": [
    "barchart(gender_yes_prop, 'Proportion of males and females not showing at doctors appointments', 'Gender', 'Proportion');"
   ]
  },
  {
   "cell_type": "markdown",
   "id": "c97e8e68",
   "metadata": {},
   "source": [
    "### Explore relationship between scholarship and not showing up for appointment"
   ]
  },
  {
   "cell_type": "code",
   "execution_count": 28,
   "id": "00e1c885",
   "metadata": {},
   "outputs": [
    {
     "data": {
      "text/plain": [
       "0    0.197992\n",
       "1    0.237665\n",
       "dtype: float64"
      ]
     },
     "execution_count": 28,
     "metadata": {},
     "output_type": "execute_result"
    }
   ],
   "source": [
    "scholarship_yes = df_yes.Scholarship.value_counts()\n",
    "scholarship_totals = df_clean.groupby('Scholarship').count()['Noshow']\n",
    "\n",
    "scholarship_yes_prop = scholarship_yes/scholarship_totals # Get the proportion \n",
    "scholarship_yes_prop"
   ]
  },
  {
   "cell_type": "code",
   "execution_count": 116,
   "id": "c4a9c65f",
   "metadata": {},
   "outputs": [
    {
     "data": {
      "image/png": "[encoded data removed]",
      "text/plain": [
       "<Figure size 432x288 with 1 Axes>"
      ]
     },
     "metadata": {
      "needs_background": "light"
     },
     "output_type": "display_data"
    }
   ],
   "source": [
    "barchart(scholarship_yes_prop, 'Proportion of patients with or without a scholarship not showing at doctors appointments', 'Scholarship', 'Proportion')"
   ]
  },
  {
   "cell_type": "markdown",
   "id": "0ed8786a",
   "metadata": {},
   "source": [
    "There is a relationship between scholarship and no show. Patients with a scholarship are more likely to not show to doctors appointments. "
   ]
  },
  {
   "cell_type": "markdown",
   "id": "15a71fcc",
   "metadata": {},
   "source": [
    "### Explore relationship between hypertension and showing up for appointment. "
   ]
  },
  {
   "cell_type": "code",
   "execution_count": 30,
   "id": "9d58a173",
   "metadata": {},
   "outputs": [
    {
     "data": {
      "text/plain": [
       "0    0.209072\n",
       "1    0.172592\n",
       "dtype: float64"
      ]
     },
     "execution_count": 30,
     "metadata": {},
     "output_type": "execute_result"
    }
   ],
   "source": [
    "hipertension_yes = df_yes.Hipertension.value_counts()\n",
    "hipertension_totals = df_clean.groupby('Hipertension').count()['Noshow']\n",
    "\n",
    "hipertension_yes_prop = hipertension_yes/hipertension_totals # Get the proportion of each gender that did not show to appointment. \n",
    "hipertension_yes_prop"
   ]
  },
  {
   "cell_type": "code",
   "execution_count": 117,
   "id": "832f77d4",
   "metadata": {},
   "outputs": [
    {
     "data": {
      "image/png": "[encoded data removed]",
      "text/plain": [
       "<Figure size 432x288 with 1 Axes>"
      ]
     },
     "metadata": {
      "needs_background": "light"
     },
     "output_type": "display_data"
    }
   ],
   "source": [
    "barchart(hipertension_yes_prop, 'Proportion of patients with or without a hypertension not showing at doctors appointments', 'Hypertension', 'Proportion')"
   ]
  },
  {
   "cell_type": "markdown",
   "id": "29d05f9b",
   "metadata": {},
   "source": [
    "There is a relationship between hypertension and noshow. Patients without hypertension are more likely to not show at doctors appointments. "
   ]
  },
  {
   "cell_type": "markdown",
   "id": "9a3e8bea",
   "metadata": {},
   "source": [
    "### Explore relationship between diabetes and not showing to appointment. "
   ]
  },
  {
   "cell_type": "code",
   "execution_count": 32,
   "id": "62545bbb",
   "metadata": {},
   "outputs": [
    {
     "data": {
      "text/plain": [
       "0    0.203579\n",
       "1    0.180000\n",
       "dtype: float64"
      ]
     },
     "execution_count": 32,
     "metadata": {},
     "output_type": "execute_result"
    }
   ],
   "source": [
    "diabetes_yes = df_yes.Diabetes.value_counts()\n",
    "diabetes_totals = df_clean.groupby('Diabetes').count()['Noshow']\n",
    "\n",
    "diabetes_yes_prop = diabetes_yes/diabetes_totals # Get the proportion \n",
    "diabetes_yes_prop"
   ]
  },
  {
   "cell_type": "code",
   "execution_count": 118,
   "id": "a05495de",
   "metadata": {},
   "outputs": [
    {
     "data": {
      "image/png": "[encoded data removed]",
      "text/plain": [
       "<Figure size 432x288 with 1 Axes>"
      ]
     },
     "metadata": {
      "needs_background": "light"
     },
     "output_type": "display_data"
    }
   ],
   "source": [
    "barchart(diabetes_yes_prop, 'Proportion of patients with or without a diabetes not showing at doctors appointments', 'Diabetes', 'Proportion')"
   ]
  },
  {
   "cell_type": "markdown",
   "id": "c8aef2da",
   "metadata": {},
   "source": [
    " There is a relationship between diabetes and noshow. Patients without diabetes are much more likely to not show at doctors appointments."
   ]
  },
  {
   "cell_type": "markdown",
   "id": "c555e3bd",
   "metadata": {},
   "source": [
    "### Explore relationship betweeen alcoholism and not showing to appointment. "
   ]
  },
  {
   "cell_type": "code",
   "execution_count": 34,
   "id": "e6a554f7",
   "metadata": {},
   "outputs": [
    {
     "data": {
      "text/plain": [
       "0    0.201907\n",
       "1    0.201372\n",
       "dtype: float64"
      ]
     },
     "execution_count": 34,
     "metadata": {},
     "output_type": "execute_result"
    }
   ],
   "source": [
    "alcoholism_yes = df_yes.Alcoholism.value_counts()\n",
    "alcoholism_totals = df_clean.groupby('Alcoholism').count()['Noshow']\n",
    "\n",
    "alcoholism_yes_prop = alcoholism_yes/alcoholism_totals # Get the proportion \n",
    "alcoholism_yes_prop"
   ]
  },
  {
   "cell_type": "code",
   "execution_count": 119,
   "id": "3f7b9c62",
   "metadata": {},
   "outputs": [
    {
     "data": {
      "image/png": "[encoded data removed]",
      "text/plain": [
       "<Figure size 432x288 with 1 Axes>"
      ]
     },
     "metadata": {
      "needs_background": "light"
     },
     "output_type": "display_data"
    }
   ],
   "source": [
    "barchart(alcoholism_yes_prop, 'Proportion of patients with or without alcoholism not showing at doctors appointments', 'Alcoholism', 'Proportion')"
   ]
  },
  {
   "cell_type": "markdown",
   "id": "34e627d1",
   "metadata": {},
   "source": [
    "There is no relationship between alcoholism and no show. Patients with alcholism are not more likely to miss doctors appointments than patients with alcoholism. "
   ]
  },
  {
   "cell_type": "markdown",
   "id": "9116c59f",
   "metadata": {},
   "source": [
    "### Explore relationship between handicap and not showing to appointment. "
   ]
  },
  {
   "cell_type": "code",
   "execution_count": 36,
   "id": "851b1a9c",
   "metadata": {},
   "outputs": [
    {
     "data": {
      "text/plain": [
       "0    0.202333\n",
       "1    0.178431\n",
       "dtype: float64"
      ]
     },
     "execution_count": 36,
     "metadata": {},
     "output_type": "execute_result"
    }
   ],
   "source": [
    "handcap_yes = df_yes.Handcap.value_counts()\n",
    "handcap_totals = df_clean.groupby('Handcap').count()['Noshow']\n",
    "\n",
    "handcap_yes_prop = handcap_yes/handcap_totals # Get the proportion \n",
    "handcap_yes_prop"
   ]
  },
  {
   "cell_type": "code",
   "execution_count": 120,
   "id": "ddd6f52d",
   "metadata": {},
   "outputs": [
    {
     "data": {
      "image/png": "[encoded data removed]",
      "text/plain": [
       "<Figure size 432x288 with 1 Axes>"
      ]
     },
     "metadata": {
      "needs_background": "light"
     },
     "output_type": "display_data"
    }
   ],
   "source": [
    "barchart(handcap_yes_prop, 'Proportion of patients with or without handicap not showing at doctors appointments', 'Handicap', 'Proportion')"
   ]
  },
  {
   "cell_type": "markdown",
   "id": "452b4eaa",
   "metadata": {},
   "source": [
    "Patients without handicap are more likely to miss appointment. "
   ]
  },
  {
   "cell_type": "markdown",
   "id": "aff99c2b",
   "metadata": {},
   "source": [
    "### Explore relationship between SMS received and not showing to appointments. "
   ]
  },
  {
   "cell_type": "code",
   "execution_count": 38,
   "id": "6859809d",
   "metadata": {},
   "outputs": [
    {
     "data": {
      "text/plain": [
       "0    0.166891\n",
       "1    0.275857\n",
       "dtype: float64"
      ]
     },
     "execution_count": 38,
     "metadata": {},
     "output_type": "execute_result"
    }
   ],
   "source": [
    "SMS_received_yes = df_yes.SMS_received.value_counts()\n",
    "SMS_received_totals = df_clean.groupby('SMS_received').count()['Noshow']\n",
    "\n",
    "SMS_received_yes_prop = SMS_received_yes/SMS_received_totals # Get the proportion \n",
    "SMS_received_yes_prop"
   ]
  },
  {
   "cell_type": "code",
   "execution_count": 121,
   "id": "6e1af370",
   "metadata": {},
   "outputs": [
    {
     "data": {
      "image/png": "[encoded data removed]",
      "text/plain": [
       "<Figure size 432x288 with 1 Axes>"
      ]
     },
     "metadata": {
      "needs_background": "light"
     },
     "output_type": "display_data"
    }
   ],
   "source": [
    "barchart(SMS_received_yes_prop, 'Proportion of patients that did or did not receive an SMS that did not show to doctors appointments', 'SMS received', 'Proportion')"
   ]
  },
  {
   "cell_type": "markdown",
   "id": "2ddf4e37",
   "metadata": {},
   "source": [
    "Patients that received SMS are more likely to miss doctors appointment than patients that did not receive SMS. "
   ]
  },
  {
   "cell_type": "markdown",
   "id": "b6d1e1c7",
   "metadata": {},
   "source": [
    "### Proportion of patients not showing up by waiting period"
   ]
  },
  {
   "cell_type": "code",
   "execution_count": 40,
   "id": "172e5c57",
   "metadata": {},
   "outputs": [
    {
     "data": {
      "image/png": "[encoded data removed]",
      "text/plain": [
       "<Figure size 432x288 with 1 Axes>"
      ]
     },
     "metadata": {
      "needs_background": "light"
     },
     "output_type": "display_data"
    }
   ],
   "source": [
    "prop_ = df_yes.groupby(['WaitingDays']).size()/df_clean.groupby(['WaitingDays']).size()\n",
    "ratio.plot()\n",
    "plt.title('Proportion of patients not showing up by waiting period', size='10')\n",
    "plt.show()"
   ]
  },
  {
   "cell_type": "markdown",
   "id": "2a110dac",
   "metadata": {},
   "source": [
    "As time between scheduled day and appointment day increases, the proportion of patients not showing to appointment increases. This relationship is not linear. "
   ]
  },
  {
   "cell_type": "markdown",
   "id": "3c2412c1",
   "metadata": {},
   "source": [
    "## Conclusions"
   ]
  },
  {
   "cell_type": "markdown",
   "id": "9c2b1fe5",
   "metadata": {},
   "source": [
    "Looking at the data we found that...\n",
    "- 20% of patients did not show up for their doctors appointments. \n",
    "\n",
    "We then explored some possible relationships between not showing and other variables such as gender, diseases, handicaps etc.  \n",
    "\n",
    "We found that:\n",
    "- There is no significant relationship between showing up and gender. \n",
    "- Patients with a scholarship are more likely to not show to doctors appointments than patients with scholarships. \n",
    "- Patients without hypertension are more likely to not show at doctors appointments than patients with hypertension. \n",
    "- Patients without diabetes are much more likely to not show at doctors appointments.\n",
    "- Patients without alcoholism are not more likely to not show doctors appointments than patients with alcoholism.\n",
    "- Patients without handicap are more likely to miss appointment than patients with handicaps. \n",
    "- Patients that received an SMS were less likely to show to their appointment than those that did not receive an SMS.\n",
    "- Patients that had a longer waiting period between booking their appointment (ScheduledDay) and their appointment (AppointmentDay) were more likely to not show to their appointment."
   ]
  },
  {
   "cell_type": "markdown",
   "id": "40b6b113",
   "metadata": {},
   "source": [
    "The data had the following limitations:\n",
    "- The data analysed here is boolean or categorical, which makes it difficult to find relationships or trends between variables.\n",
    "- Rows with Handicap values >1 were removed hence data was lost that may have altered the outcome of analyses. \n",
    "- Rows with appointment days that occur prior to scheduled days were removed, hence data was lost that may have altered the outcome of the analyses. \n",
    "- There is no information provided on whether the patient missed their appointment, or rescheduled it.\n",
    "- There is no information on the reasons patients missed their appointment. \n",
    "- The data was collected over a period of 3 months, it would be preferable if it was collected over a whole year or more. This would allow us to see if there are trends in which months or which time of month patients are more likely to miss appointments. "
   ]
  },
  {
   "cell_type": "code",
   "execution_count": null,
   "id": "e0b4f356",
   "metadata": {},
   "outputs": [],
   "source": []
  }
 ],
 "metadata": {
  "kernelspec": {
   "display_name": "Python 3 (ipykernel)",
   "language": "python",
   "name": "python3"
  },
  "language_info": {
   "codemirror_mode": {
    "name": "ipython",
    "version": 3
   },
   "file_extension": ".py",
   "mimetype": "text/x-python",
   "name": "python",
   "nbconvert_exporter": "python",
   "pygments_lexer": "ipython3",
   "version": "3.9.7"
  }
 },
 "nbformat": 4,
 "nbformat_minor": 5
}
